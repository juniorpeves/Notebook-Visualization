{
 "cells": [
  {
   "cell_type": "markdown",
   "metadata": {},
   "source": [
    "# Práctica: análisis y exploración de datos\n",
    "Clase 21 del Curso de Principios de Visualización de Datos para Business Intelligence"
   ]
  },
  {
   "cell_type": "code",
   "execution_count": 3,
   "metadata": {},
   "outputs": [],
   "source": [
    "import pandas as pd\n",
    "import numpy as np\n",
    "#import matplotlib.pyplot as plt\n",
    "#import geopandas as gpd"
   ]
  },
  {
   "cell_type": "code",
   "execution_count": 4,
   "metadata": {},
   "outputs": [],
   "source": [
    "df = pd.read_csv('superstore.csv')"
   ]
  },
  {
   "cell_type": "markdown",
   "metadata": {},
   "source": [
    "### Pregunta 1\n",
    "¿Cuál es la categoría de productos más vendida?"
   ]
  },
  {
   "cell_type": "code",
   "execution_count": 9,
   "metadata": {},
   "outputs": [
    {
     "data": {
      "text/html": [
       "<div>\n",
       "<style scoped>\n",
       "    .dataframe tbody tr th:only-of-type {\n",
       "        vertical-align: middle;\n",
       "    }\n",
       "\n",
       "    .dataframe tbody tr th {\n",
       "        vertical-align: top;\n",
       "    }\n",
       "\n",
       "    .dataframe thead th {\n",
       "        text-align: right;\n",
       "    }\n",
       "</style>\n",
       "<table border=\"1\" class=\"dataframe\">\n",
       "  <thead>\n",
       "    <tr style=\"text-align: right;\">\n",
       "      <th></th>\n",
       "      <th>Row ID</th>\n",
       "      <th>Postal Code</th>\n",
       "      <th>Sales</th>\n",
       "      <th>Quantity</th>\n",
       "      <th>Discount</th>\n",
       "      <th>Profit</th>\n",
       "    </tr>\n",
       "    <tr>\n",
       "      <th>Category</th>\n",
       "      <th></th>\n",
       "      <th></th>\n",
       "      <th></th>\n",
       "      <th></th>\n",
       "      <th></th>\n",
       "      <th></th>\n",
       "    </tr>\n",
       "  </thead>\n",
       "  <tbody>\n",
       "    <tr>\n",
       "      <th>Furniture</th>\n",
       "      <td>10693326</td>\n",
       "      <td>118196026</td>\n",
       "      <td>741999.7953</td>\n",
       "      <td>8028</td>\n",
       "      <td>368.89</td>\n",
       "      <td>18451.2728</td>\n",
       "    </tr>\n",
       "    <tr>\n",
       "      <th>Office Supplies</th>\n",
       "      <td>30010535</td>\n",
       "      <td>330772872</td>\n",
       "      <td>719047.0320</td>\n",
       "      <td>22906</td>\n",
       "      <td>947.80</td>\n",
       "      <td>122490.8008</td>\n",
       "    </tr>\n",
       "    <tr>\n",
       "      <th>Technology</th>\n",
       "      <td>9241154</td>\n",
       "      <td>102603754</td>\n",
       "      <td>836154.0330</td>\n",
       "      <td>6939</td>\n",
       "      <td>244.40</td>\n",
       "      <td>145454.9481</td>\n",
       "    </tr>\n",
       "  </tbody>\n",
       "</table>\n",
       "</div>"
      ],
      "text/plain": [
       "                   Row ID  Postal Code        Sales  Quantity  Discount  \\\n",
       "Category                                                                  \n",
       "Furniture        10693326    118196026  741999.7953      8028    368.89   \n",
       "Office Supplies  30010535    330772872  719047.0320     22906    947.80   \n",
       "Technology        9241154    102603754  836154.0330      6939    244.40   \n",
       "\n",
       "                      Profit  \n",
       "Category                      \n",
       "Furniture         18451.2728  \n",
       "Office Supplies  122490.8008  \n",
       "Technology       145454.9481  "
      ]
     },
     "execution_count": 9,
     "metadata": {},
     "output_type": "execute_result"
    },
    {
     "data": {
      "image/png": "[encoded data removed]",
      "text/plain": [
       "<Figure size 432x288 with 1 Axes>"
      ]
     },
     "metadata": {
      "needs_background": "light"
     },
     "output_type": "display_data"
    }
   ],
   "source": [
    "Q1 = df.groupby(['Category']).sum('Sales')\n",
    "Q1['Sales'].plot(kind='bar')\n",
    "Q1"
   ]
  },
  {
   "cell_type": "markdown",
   "metadata": {},
   "source": [
    "### Pregunta 2\n",
    "¿Quién es el cliente que compra más?"
   ]
  },
  {
   "cell_type": "code",
   "execution_count": 10,
   "metadata": {},
   "outputs": [
    {
     "data": {
      "text/html": [
       "<div>\n",
       "<style scoped>\n",
       "    .dataframe tbody tr th:only-of-type {\n",
       "        vertical-align: middle;\n",
       "    }\n",
       "\n",
       "    .dataframe tbody tr th {\n",
       "        vertical-align: top;\n",
       "    }\n",
       "\n",
       "    .dataframe thead th {\n",
       "        text-align: right;\n",
       "    }\n",
       "</style>\n",
       "<table border=\"1\" class=\"dataframe\">\n",
       "  <thead>\n",
       "    <tr style=\"text-align: right;\">\n",
       "      <th></th>\n",
       "      <th>Row ID</th>\n",
       "      <th>Postal Code</th>\n",
       "      <th>Sales</th>\n",
       "      <th>Quantity</th>\n",
       "      <th>Discount</th>\n",
       "      <th>Profit</th>\n",
       "    </tr>\n",
       "    <tr>\n",
       "      <th>Customer Name</th>\n",
       "      <th></th>\n",
       "      <th></th>\n",
       "      <th></th>\n",
       "      <th></th>\n",
       "      <th></th>\n",
       "      <th></th>\n",
       "    </tr>\n",
       "  </thead>\n",
       "  <tbody>\n",
       "    <tr>\n",
       "      <th>Sean Miller</th>\n",
       "      <td>77545</td>\n",
       "      <td>482091</td>\n",
       "      <td>25043.050</td>\n",
       "      <td>50</td>\n",
       "      <td>3.7</td>\n",
       "      <td>-1980.7393</td>\n",
       "    </tr>\n",
       "    <tr>\n",
       "      <th>Tamara Chand</th>\n",
       "      <td>75386</td>\n",
       "      <td>586036</td>\n",
       "      <td>19052.218</td>\n",
       "      <td>42</td>\n",
       "      <td>1.4</td>\n",
       "      <td>8981.3239</td>\n",
       "    </tr>\n",
       "    <tr>\n",
       "      <th>Raymond Buch</th>\n",
       "      <td>69857</td>\n",
       "      <td>914035</td>\n",
       "      <td>15117.339</td>\n",
       "      <td>71</td>\n",
       "      <td>1.7</td>\n",
       "      <td>6976.0959</td>\n",
       "    </tr>\n",
       "    <tr>\n",
       "      <th>Tom Ashbrook</th>\n",
       "      <td>48932</td>\n",
       "      <td>375032</td>\n",
       "      <td>14595.620</td>\n",
       "      <td>36</td>\n",
       "      <td>0.8</td>\n",
       "      <td>4703.7883</td>\n",
       "    </tr>\n",
       "    <tr>\n",
       "      <th>Adrian Barton</th>\n",
       "      <td>130088</td>\n",
       "      <td>1359311</td>\n",
       "      <td>14473.571</td>\n",
       "      <td>73</td>\n",
       "      <td>4.8</td>\n",
       "      <td>5444.8055</td>\n",
       "    </tr>\n",
       "  </tbody>\n",
       "</table>\n",
       "</div>"
      ],
      "text/plain": [
       "               Row ID  Postal Code      Sales  Quantity  Discount     Profit\n",
       "Customer Name                                                               \n",
       "Sean Miller     77545       482091  25043.050        50       3.7 -1980.7393\n",
       "Tamara Chand    75386       586036  19052.218        42       1.4  8981.3239\n",
       "Raymond Buch    69857       914035  15117.339        71       1.7  6976.0959\n",
       "Tom Ashbrook    48932       375032  14595.620        36       0.8  4703.7883\n",
       "Adrian Barton  130088      1359311  14473.571        73       4.8  5444.8055"
      ]
     },
     "execution_count": 10,
     "metadata": {},
     "output_type": "execute_result"
    }
   ],
   "source": [
    "\n",
    "Q2 = df.groupby(['Customer Name']).sum('Sales')\n",
    "Q2 = Q2.sort_values(by=['Sales'], ascending=False)\n",
    "Q2.head()\n",
    "#Q1['Sales'].plot(kind='bar')"
   ]
  },
  {
   "cell_type": "markdown",
   "metadata": {},
   "source": [
    "### Pregunta 3\n",
    "¿En qué Trimestre (Q) se realizan más ventas?"
   ]
  },
  {
   "cell_type": "code",
   "execution_count": 11,
   "metadata": {},
   "outputs": [],
   "source": [
    "Q3 = df.loc[:,['Order Date','Sales']]\n",
    "Q3['Date'] = pd.to_datetime(Q3['Order Date'], dayfirst=True)\n",
    "Q3['Year'] = Q3['Date'].dt.year\n",
    "Q3['Quarter'] = Q3['Date'].dt.quarter\n",
    "#Q3.to_csv('example.csv', index=False)\n",
    "years = list(set(Q3['Year']))\n",
    "years.sort()\n",
    "quarter = list(set(Q3['Quarter']))\n",
    "lista = [[],[],[],[]]\n",
    "for y in years:\n",
    "    a=0\n",
    "    for i in quarter:\n",
    "        b = Q3[(Q3['Year'] == y) & (Q3['Quarter'] == i)].count()['Sales']\n",
    "        lista[a].append(b)\n",
    "        a=a+1"
   ]
  },
  {
   "cell_type": "code",
   "execution_count": 12,
   "metadata": {},
   "outputs": [
    {
     "data": {
      "image/png": "[encoded data removed]",
      "text/plain": [
       "<Figure size 432x288 with 1 Axes>"
      ]
     },
     "metadata": {
      "needs_background": "light"
     },
     "output_type": "display_data"
    }
   ],
   "source": [
    "df = pd.DataFrame({'Q1': lista[0],\n",
    "                   'Q2': lista[1],\n",
    "                   'Q3': lista[2],\n",
    "                   'Q4': lista[3],}, index=years)\n",
    "ax = df.plot.bar(xlabel = 'Quaeter per Year', ylabel='Quantity of Sales')"
   ]
  }
 ],
 "metadata": {
  "interpreter": {
   "hash": "38a2d554e778729b27fe569670775a7256b6a74cd1ef5883c4f1af57659a40e5"
  },
  "kernelspec": {
   "display_name": "Python 3 (ipykernel)",
   "language": "python",
   "name": "python3"
  },
  "language_info": {
   "codemirror_mode": {
    "name": "ipython",
    "version": 3
   },
   "file_extension": ".py",
   "mimetype": "text/x-python",
   "name": "python",
   "nbconvert_exporter": "python",
   "pygments_lexer": "ipython3",
   "version": "3.7.11"
  }
 },
 "nbformat": 4,
 "nbformat_minor": 2
}
