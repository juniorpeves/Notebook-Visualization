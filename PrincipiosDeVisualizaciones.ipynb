{
 "cells": [
  {
   "cell_type": "code",
   "execution_count": 1,
   "metadata": {},
   "outputs": [],
   "source": [
    "import pandas as pd\n",
    "import numpy as np\n",
    "import matplotlib.pyplot as plt"
   ]
  },
  {
   "cell_type": "code",
   "execution_count": 2,
   "metadata": {},
   "outputs": [
    {
     "data": {
      "text/html": [
       "<div>\n",
       "<style scoped>\n",
       "    .dataframe tbody tr th:only-of-type {\n",
       "        vertical-align: middle;\n",
       "    }\n",
       "\n",
       "    .dataframe tbody tr th {\n",
       "        vertical-align: top;\n",
       "    }\n",
       "\n",
       "    .dataframe thead th {\n",
       "        text-align: right;\n",
       "    }\n",
       "</style>\n",
       "<table border=\"1\" class=\"dataframe\">\n",
       "  <thead>\n",
       "    <tr style=\"text-align: right;\">\n",
       "      <th></th>\n",
       "      <th>Country (or dependency)</th>\n",
       "      <th>Population (2020)</th>\n",
       "      <th>Yearly Change</th>\n",
       "      <th>Net Change</th>\n",
       "      <th>Density (P/Km²)</th>\n",
       "      <th>Land Area (Km²)</th>\n",
       "      <th>Migrants (net)</th>\n",
       "      <th>Fert. Rate</th>\n",
       "      <th>Med. Age</th>\n",
       "      <th>Urban Pop %</th>\n",
       "      <th>World Share</th>\n",
       "      <th>Region</th>\n",
       "    </tr>\n",
       "  </thead>\n",
       "  <tbody>\n",
       "    <tr>\n",
       "      <th>7</th>\n",
       "      <td>Argentina</td>\n",
       "      <td>45267449</td>\n",
       "      <td>0.93%</td>\n",
       "      <td>415097</td>\n",
       "      <td>17</td>\n",
       "      <td>2736690</td>\n",
       "      <td>4800.0</td>\n",
       "      <td>2.3</td>\n",
       "      <td>32.0</td>\n",
       "      <td>93%</td>\n",
       "      <td>0.58%</td>\n",
       "      <td>LATIN</td>\n",
       "    </tr>\n",
       "    <tr>\n",
       "      <th>9</th>\n",
       "      <td>Aruba</td>\n",
       "      <td>106845</td>\n",
       "      <td>0.43%</td>\n",
       "      <td>452</td>\n",
       "      <td>593</td>\n",
       "      <td>180</td>\n",
       "      <td>201.0</td>\n",
       "      <td>1.9</td>\n",
       "      <td>41.0</td>\n",
       "      <td>44%</td>\n",
       "      <td>0.00%</td>\n",
       "      <td>LATIN</td>\n",
       "    </tr>\n",
       "    <tr>\n",
       "      <th>13</th>\n",
       "      <td>Bahamas</td>\n",
       "      <td>393893</td>\n",
       "      <td>0.97%</td>\n",
       "      <td>3762</td>\n",
       "      <td>39</td>\n",
       "      <td>10010</td>\n",
       "      <td>1000.0</td>\n",
       "      <td>1.8</td>\n",
       "      <td>32.0</td>\n",
       "      <td>86%</td>\n",
       "      <td>0.01%</td>\n",
       "      <td>LATIN</td>\n",
       "    </tr>\n",
       "    <tr>\n",
       "      <th>16</th>\n",
       "      <td>Barbados</td>\n",
       "      <td>287437</td>\n",
       "      <td>0.12%</td>\n",
       "      <td>350</td>\n",
       "      <td>668</td>\n",
       "      <td>430</td>\n",
       "      <td>-79.0</td>\n",
       "      <td>1.6</td>\n",
       "      <td>40.0</td>\n",
       "      <td>31%</td>\n",
       "      <td>0.00%</td>\n",
       "      <td>LATIN</td>\n",
       "    </tr>\n",
       "    <tr>\n",
       "      <th>19</th>\n",
       "      <td>Belize</td>\n",
       "      <td>398845</td>\n",
       "      <td>1.86%</td>\n",
       "      <td>7275</td>\n",
       "      <td>17</td>\n",
       "      <td>22810</td>\n",
       "      <td>1200.0</td>\n",
       "      <td>2.3</td>\n",
       "      <td>25.0</td>\n",
       "      <td>46%</td>\n",
       "      <td>0.01%</td>\n",
       "      <td>LATIN</td>\n",
       "    </tr>\n",
       "  </tbody>\n",
       "</table>\n",
       "</div>"
      ],
      "text/plain": [
       "   Country (or dependency)  Population (2020) Yearly Change  Net Change  \\\n",
       "7                Argentina           45267449         0.93%      415097   \n",
       "9                    Aruba             106845         0.43%         452   \n",
       "13                 Bahamas             393893         0.97%        3762   \n",
       "16                Barbados             287437         0.12%         350   \n",
       "19                  Belize             398845         1.86%        7275   \n",
       "\n",
       "    Density (P/Km²)  Land Area (Km²)  Migrants (net)  Fert. Rate  Med. Age  \\\n",
       "7                17          2736690          4800.0         2.3      32.0   \n",
       "9               593              180           201.0         1.9      41.0   \n",
       "13               39            10010          1000.0         1.8      32.0   \n",
       "16              668              430           -79.0         1.6      40.0   \n",
       "19               17            22810          1200.0         2.3      25.0   \n",
       "\n",
       "   Urban Pop % World Share Region  \n",
       "7          93%       0.58%  LATIN  \n",
       "9          44%       0.00%  LATIN  \n",
       "13         86%       0.01%  LATIN  \n",
       "16         31%       0.00%  LATIN  \n",
       "19         46%       0.01%  LATIN  "
      ]
     },
     "execution_count": 2,
     "metadata": {},
     "output_type": "execute_result"
    }
   ],
   "source": [
    "df = pd.read_csv('population_by_country_2020.csv')\n",
    "Q1 =df[(df['Region'] == 'LATIN')  & (df['Med. Age'] > 0)]\n",
    "Q1.head()"
   ]
  },
  {
   "cell_type": "code",
   "execution_count": 3,
   "metadata": {},
   "outputs": [
    {
     "data": {
      "image/png": "[encoded data removed]",
      "text/plain": [
       "<Figure size 432x288 with 1 Axes>"
      ]
     },
     "metadata": {
      "needs_background": "light"
     },
     "output_type": "display_data"
    }
   ],
   "source": [
    "# libraries\n",
    "import matplotlib.pyplot as plt\n",
    "import numpy as np\n",
    "\n",
    "x = (Q1['Country (or dependency)']).to_numpy()\n",
    "y = (Q1['Med. Age']).to_numpy()\n",
    "z = (Q1['Population (2020)']).to_numpy()\n",
    "colors = np.random.rand(len(Q1['Country (or dependency)']))\n",
    "\n",
    "# use the scatter function\n",
    "plt.scatter(x, y, s=z/100000, alpha=0.5, c=colors)\n",
    "plt.xticks(rotation=90)\n",
    "plt.ylabel(\"Med. Age\")\n",
    "# show the graph\n",
    "plt.show()"
   ]
  }
 ],
 "metadata": {
  "interpreter": {
   "hash": "4d98b7e3cc6317f94188f90528b13f1fb68fd3d95611955c54dac90dbe90a35a"
  },
  "kernelspec": {
   "display_name": "Python 3.9.7 ('TestJupyter')",
   "language": "python",
   "name": "python3"
  },
  "language_info": {
   "codemirror_mode": {
    "name": "ipython",
    "version": 3
   },
   "file_extension": ".py",
   "mimetype": "text/x-python",
   "name": "python",
   "nbconvert_exporter": "python",
   "pygments_lexer": "ipython3",
   "version": "3.9.7"
  },
  "orig_nbformat": 4
 },
 "nbformat": 4,
 "nbformat_minor": 2
}
